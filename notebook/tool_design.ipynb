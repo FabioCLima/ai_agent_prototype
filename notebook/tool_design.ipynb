{
 "cells": [
  {
   "cell_type": "code",
   "execution_count": 1,
   "id": "fa63c45a",
   "metadata": {},
   "outputs": [],
   "source": [
    "import json \n",
    "from inspect import signature\n",
    "from typing import get_type_hints\n",
    "from inspect import getdoc"
   ]
  },
  {
   "cell_type": "code",
   "execution_count": 2,
   "id": "2be57194",
   "metadata": {},
   "outputs": [],
   "source": [
    "def power(base: float, exponent: float) -> float:\n",
    "    \"\"\"\n",
    "    Calculates the power of a base number raised to a given exponent.\n",
    "    \n",
    "    Args:\n",
    "        base (float): The base number to be raised to a power.\n",
    "        exponent (float): The exponent to raise the base number to.\n",
    "    \n",
    "    Returns:\n",
    "        float: The result of base raised to the power of exponent.\n",
    "    \"\"\"\n",
    "        \n",
    "    return base ** exponent"
   ]
  },
  {
   "cell_type": "code",
   "execution_count": 3,
   "id": "42f12b79",
   "metadata": {},
   "outputs": [
    {
     "name": "stdout",
     "output_type": "stream",
     "text": [
      "A assinatura da função : é (base: float, exponent: float) -> float \n"
     ]
    }
   ],
   "source": [
    "signature_func= signature(power)\n",
    "print(f\"A assinatura da função : é {signature_func} \")"
   ]
  },
  {
   "cell_type": "code",
   "execution_count": 4,
   "id": "5b3e3a70",
   "metadata": {},
   "outputs": [
    {
     "name": "stdout",
     "output_type": "stream",
     "text": [
      "Tipos dos parâmetros da função:\n",
      "{'base': <class 'float'>, 'exponent': <class 'float'>, 'return': <class 'float'>}\n"
     ]
    }
   ],
   "source": [
    "type_hints = get_type_hints(power)\n",
    "print(f\"Tipos dos parâmetros da função:\\n{type_hints}\")"
   ]
  },
  {
   "cell_type": "code",
   "execution_count": 5,
   "id": "fde44c58",
   "metadata": {},
   "outputs": [
    {
     "name": "stdout",
     "output_type": "stream",
     "text": [
      "Calculates the power of a base number raised to a given exponent.\n",
      "\n",
      "Args:\n",
      "    base (float): The base number to be raised to a power.\n",
      "    exponent (float): The exponent to raise the base number to.\n",
      "\n",
      "Returns:\n",
      "    float: The result of base raised to the power of exponent.\n"
     ]
    }
   ],
   "source": [
    "doc_func= getdoc(power)\n",
    "print(doc_func)"
   ]
  },
  {
   "cell_type": "code",
   "execution_count": 6,
   "id": "6c9b4ac7",
   "metadata": {},
   "outputs": [],
   "source": [
    "# A função exponentiation(base: float, exponent: float -> float # Input Parameters)\n",
    "power_json_schema = {\n",
    "    \"name\": \"exponentiation\",\n",
    "    \"description\": \"Calculate the exponentiation base raisen to the power of exponent.\",\n",
    "    \"type\": \"object\",\n",
    "    \"parameters \": {\n",
    "        \"type\": \"object\",\n",
    "        \"properties\": {\n",
    "            \"base\": {\"type\": \"number\"},\n",
    "            \"exponent\": {\"type\": \"number\"}\n",
    "    },\n",
    "    \"required\": [\"base\", \"exponent\"]\n",
    " }\n",
    "}"
   ]
  },
  {
   "cell_type": "code",
   "execution_count": 7,
   "id": "f22f649d",
   "metadata": {},
   "outputs": [],
   "source": [
    "class Tool:\n",
    "    def __init__(self, func):\n",
    "        self.func = func\n",
    "        self.name = func.__name__\n",
    "        self.description = getdoc(func) or \"No description available.\"\n",
    "        self.parameters = self._generate_parameters()\n",
    "\n",
    "    def _generate_parameters(self):\n",
    "        params = {}\n",
    "        hints = get_type_hints(self.func)\n",
    "        sig = signature(self.func)\n",
    "\n",
    "        for param in sig.parameters.values():\n",
    "            param_type = self.infer_json_schema_type(hints[param.name])\n",
    "            params[param.name] = {\n",
    "                \"type\": param_type,\n",
    "                \"required\": param.default is param.empty\n",
    "            }\n",
    "        \n",
    "        return {\n",
    "            \"type\": \"object\",\n",
    "            \"properties\": params,\n",
    "            \"required\": [name for name, details in params.items() if details[\"required\"]]\n",
    "        }\n",
    "\n",
    "    def infer_json_schema_type(self, arg_type):\n",
    "        if arg_type is bool:\n",
    "            return \"boolean\"\n",
    "        elif arg_type is int:\n",
    "            return \"integer\"\n",
    "        elif arg_type is float:\n",
    "            return \"number\"\n",
    "        elif arg_type is str:\n",
    "            return \"string\"\n",
    "        elif arg_type is list:\n",
    "            return \"array\"\n",
    "        elif arg_type is dict:\n",
    "            return \"object\"\n",
    "        else:\n",
    "            return \"string\"  # Fallback for unsupported types\n",
    "\n",
    "    def call(self, **kwargs):\n",
    "        return self.func(**kwargs)"
   ]
  },
  {
   "cell_type": "code",
   "execution_count": 8,
   "id": "6ef2f475",
   "metadata": {},
   "outputs": [],
   "source": [
    "power_tool = Tool(power)"
   ]
  },
  {
   "cell_type": "code",
   "execution_count": 9,
   "id": "ae2f7bc6",
   "metadata": {},
   "outputs": [],
   "source": [
    "result = power_tool.call(base=2, exponent=3)"
   ]
  },
  {
   "cell_type": "code",
   "execution_count": 10,
   "id": "e5c8c899",
   "metadata": {},
   "outputs": [
    {
     "name": "stdout",
     "output_type": "stream",
     "text": [
      "{'type': 'object', 'properties': {'base': {'type': 'number', 'required': True}, 'exponent': {'type': 'number', 'required': True}}, 'required': ['base', 'exponent']}\n"
     ]
    }
   ],
   "source": [
    "print(power_tool.parameters)"
   ]
  },
  {
   "cell_type": "code",
   "execution_count": null,
   "id": "3459bd5f",
   "metadata": {},
   "outputs": [
    {
     "name": "stdout",
     "output_type": "stream",
     "text": [
      "{\n",
      "    \"type\": \"object\",\n",
      "    \"properties\": {\n",
      "        \"base\": {\n",
      "            \"type\": \"number\",\n",
      "            \"required\": true\n",
      "        },\n",
      "        \"exponent\": {\n",
      "            \"type\": \"number\",\n",
      "            \"required\": true\n",
      "        }\n",
      "    },\n",
      "    \"required\": [\n",
      "        \"base\",\n",
      "        \"exponent\"\n",
      "    ]\n",
      "}\n"
     ]
    },
    {
     "ename": "",
     "evalue": "",
     "output_type": "error",
     "traceback": [
      "\u001b[1;31mO Kernel deu pane ao executar o código na célula atual ou em uma célula anterior. \n",
      "\u001b[1;31mAnalise o código nas células para identificar uma possível causa da pane. \n",
      "\u001b[1;31mClique <a href='https://aka.ms/vscodeJupyterKernelCrash'>aqui</a> para obter mais informações. \n",
      "\u001b[1;31mConsulte Jupyter <a href='command:jupyter.viewOutput'>log</a> para obter mais detalhes."
     ]
    }
   ],
   "source": [
    "import json\n",
    "result = power_tool.parameters\n",
    "print(json.dumps(result, indent=4, ensure_ascii=False))"
   ]
  }
 ],
 "metadata": {
  "kernelspec": {
   "display_name": ".venv-1 (3.13.5)",
   "language": "python",
   "name": "python3"
  },
  "language_info": {
   "codemirror_mode": {
    "name": "ipython",
    "version": 3
   },
   "file_extension": ".py",
   "mimetype": "text/x-python",
   "name": "python",
   "nbconvert_exporter": "python",
   "pygments_lexer": "ipython3",
   "version": "3.13.5"
  }
 },
 "nbformat": 4,
 "nbformat_minor": 5
}
